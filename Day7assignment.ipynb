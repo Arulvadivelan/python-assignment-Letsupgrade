{
 "cells": [
  {
   "cell_type": "markdown",
   "metadata": {},
   "source": [
    "# Day 7 Assignment"
   ]
  },
  {
   "cell_type": "markdown",
   "metadata": {},
   "source": [
    "Let's Upgrade python Batch 6"
   ]
  },
  {
   "cell_type": "markdown",
   "metadata": {},
   "source": [
    "# 1.Swapping of Keys and Values in Dictionary"
   ]
  },
  {
   "cell_type": "code",
   "execution_count": 1,
   "metadata": {},
   "outputs": [
    {
     "name": "stdout",
     "output_type": "stream",
     "text": [
      "Before Swapping :  {20: 'FTP', 22: 'SSH', 23: 'Telnet', 80: 'HTTP'}\n",
      "After  Swapping :  {'FTP': 20, 'SSH': 22, 'Telnet': 23, 'HTTP': 80}\n"
     ]
    }
   ],
   "source": [
    "dict1={20:\"FTP\",22:\"SSH\",23:\"Telnet\",80:\"HTTP\"}\n",
    "print(\"Before Swapping : \",dict1)\n",
    "print(\"After  Swapping : \",{val:key for key,val in dict1.items()})"
   ]
  },
  {
   "cell_type": "markdown",
   "metadata": {},
   "source": [
    "# 2.Sum of elements in tuples in a list"
   ]
  },
  {
   "cell_type": "code",
   "execution_count": 2,
   "metadata": {},
   "outputs": [
    {
     "name": "stdout",
     "output_type": "stream",
     "text": [
      "List of tuples                   : [(1, 2), (3, 4), (5, 6), (7, 8), (8, 9), (10, 11), (12, 13)]\n",
      "List of sum of numbers in tuples : [3, 7, 11, 15, 17, 21, 25]\n"
     ]
    }
   ],
   "source": [
    "list1=[(1,2),(3,4),(5,6),(7,8),(8,9),(10,11),(12,13)]\n",
    "list2=[]\n",
    "\n",
    "for each in list1:\n",
    "    a,b=each   \n",
    "    c=a+b\n",
    "    list2.append(c)\n",
    "    \n",
    "print(\"List of tuples                   :\",list1)\n",
    "print(\"List of sum of numbers in tuples :\",list2)"
   ]
  },
  {
   "cell_type": "markdown",
   "metadata": {},
   "source": [
    "# 3.Making of inner elements of tuples and list to outer list"
   ]
  },
  {
   "cell_type": "code",
   "execution_count": 3,
   "metadata": {},
   "outputs": [
    {
     "name": "stdout",
     "output_type": "stream",
     "text": [
      "List of Tuples and Lists                       :  [(1, 2, 3), [1, 2], ['Hi', \"Let's\", 'Upgrade']]\n",
      "Appending of inner elements of list and tuples :  [1, 2, 3, 1, 2, 'Hi', \"Let's\", 'Upgrade']\n"
     ]
    }
   ],
   "source": [
    "#Making of inner elements of tuples and list to outer list\n",
    "\n",
    "list1=[(1,2,3),[1,2],[\"Hi\",\"Let's\",\"Upgrade\"]]\n",
    "list2=list1.copy()\n",
    "\n",
    "for ind in range(len(list1)):\n",
    "    list1.extend(list1[ind])\n",
    "\n",
    "for each in list2:\n",
    "    list1.remove(each)\n",
    "\n",
    "\n",
    "print(\"List of Tuples and Lists                       : \",list2)\n",
    "print(\"Appending of inner elements of list and tuples : \",list1)\n"
   ]
  },
  {
   "cell_type": "code",
   "execution_count": null,
   "metadata": {},
   "outputs": [],
   "source": []
  },
  {
   "cell_type": "code",
   "execution_count": null,
   "metadata": {},
   "outputs": [],
   "source": []
  }
 ],
 "metadata": {
  "kernelspec": {
   "display_name": "Python 3",
   "language": "python",
   "name": "python3"
  },
  "language_info": {
   "codemirror_mode": {
    "name": "ipython",
    "version": 3
   },
   "file_extension": ".py",
   "mimetype": "text/x-python",
   "name": "python",
   "nbconvert_exporter": "python",
   "pygments_lexer": "ipython3",
   "version": "3.7.6"
  }
 },
 "nbformat": 4,
 "nbformat_minor": 4
}
