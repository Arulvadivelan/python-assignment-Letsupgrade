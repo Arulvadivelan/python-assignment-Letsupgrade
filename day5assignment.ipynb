{
 "cells": [
  {
   "cell_type": "markdown",
   "metadata": {},
   "source": [
    "# Day 5 Assignment"
   ]
  },
  {
   "cell_type": "markdown",
   "metadata": {},
   "source": [
    "Let's Upgrade python Batch 6"
   ]
  },
  {
   "cell_type": "markdown",
   "metadata": {},
   "source": [
    "# 1.Sort the list make all zeros at right side"
   ]
  },
  {
   "cell_type": "code",
   "execution_count": 1,
   "metadata": {},
   "outputs": [
    {
     "name": "stdout",
     "output_type": "stream",
     "text": [
      "Sorted List1 without zeros  [1, 1, 1, 2, 2, 3, 4, 4, 10, 56, 56]\n",
      "List2 Contains Zero  [0, 0, 0, 0, 0]\n",
      "Merging of list1 and list2   [1, 1, 1, 2, 2, 3, 4, 4, 10, 56, 56, 0, 0, 0, 0, 0]\n"
     ]
    }
   ],
   "source": [
    "list1=[0,1,2,10,4,1,0,56,2,0,1,3,0,56,0,4]\n",
    "list2=[]\n",
    "for each in list1:\n",
    "       if each==0:\n",
    "            list2.append(each)\n",
    "            list1.remove(each)\n",
    "\n",
    "list1.sort()\n",
    "print(\"Sorted List1 without zeros \", list1)\n",
    "print(\"List2 Contains Zero \", list2)\n",
    "list3=list1+list2\n",
    "print(\"Merging of list1 and list2  \" ,list3)\n"
   ]
  },
  {
   "cell_type": "markdown",
   "metadata": {},
   "source": [
    "# 2.sorting of the list without sort option and with only one loop"
   ]
  },
  {
   "cell_type": "code",
   "execution_count": 2,
   "metadata": {},
   "outputs": [
    {
     "name": "stdout",
     "output_type": "stream",
     "text": [
      "List 1 : [10, 20, 40, 60, 70, 80]\n",
      "List 2 : [5, 15, 25, 35, 45, 60]\n",
      "Merged and sorted list without sort option : [5, 10, 15, 20, 25, 35, 40, 45, 60, 60, 70, 80]\n"
     ]
    }
   ],
   "source": [
    "list1=[10,20,40,60,70,80]\n",
    "list2=[5,15,25,35,45,60]\n",
    "print(\"List 1 :\",list1)\n",
    "print(\"List 2 :\",list2)\n",
    "\n",
    "\n",
    "\n",
    "list3=[]*12\n",
    " \n",
    "while list1 and list2:\n",
    "    if list1[0]<list2[0]:\n",
    "        list3.append(list1[0])\n",
    "        list1.remove(list1[0])\n",
    "    else :\n",
    "        list3.append(list2[0])\n",
    "        list2.remove(list2[0])\n",
    "    if list2==[]:\n",
    "        list3=list3+list1\n",
    "        \n",
    "\n",
    "print(\"Merged and sorted list without sort option :\",list3)"
   ]
  },
  {
   "cell_type": "code",
   "execution_count": null,
   "metadata": {},
   "outputs": [],
   "source": []
  }
 ],
 "metadata": {
  "kernelspec": {
   "display_name": "Python 3",
   "language": "python",
   "name": "python3"
  },
  "language_info": {
   "codemirror_mode": {
    "name": "ipython",
    "version": 3
   },
   "file_extension": ".py",
   "mimetype": "text/x-python",
   "name": "python",
   "nbconvert_exporter": "python",
   "pygments_lexer": "ipython3",
   "version": "3.7.6"
  }
 },
 "nbformat": 4,
 "nbformat_minor": 4
}
