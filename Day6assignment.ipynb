{
 "cells": [
  {
   "cell_type": "markdown",
   "metadata": {},
   "source": [
    "# Day 6 Assignment"
   ]
  },
  {
   "cell_type": "markdown",
   "metadata": {},
   "source": [
    "Let's Upgrade python Batch 6"
   ]
  },
  {
   "cell_type": "markdown",
   "metadata": {},
   "source": [
    "# List comprehension"
   ]
  },
  {
   "cell_type": "code",
   "execution_count": 1,
   "metadata": {},
   "outputs": [
    {
     "name": "stdout",
     "output_type": "stream",
     "text": [
      "Creating a dictionary using for loop\n",
      "Dictionary : {1: 'a', 2: 'b', 3: 'c', 4: 'd', 5: 'e'}\n"
     ]
    }
   ],
   "source": [
    "#Using For loop Method\n",
    "\n",
    "list1=[1,2,3,4,5,7,8]\n",
    "list2=[\"a\",\"b\",\"c\",\"d\",\"e\"]\n",
    "dictionary={}\n",
    "length=min(len(list1),len(list2))\n",
    "print(\"Creating a dictionary using for loop\")\n",
    "for each in range(length):\n",
    "    dictionary[list1[each]]=list2[each]\n",
    "\n",
    "print(\"Dictionary :\",dictionary)\n"
   ]
  },
  {
   "cell_type": "code",
   "execution_count": 2,
   "metadata": {},
   "outputs": [
    {
     "name": "stdout",
     "output_type": "stream",
     "text": [
      "Creating a dictionary using List comprehension\n",
      "['Dictionary :', {1: 'a', 2: 'b', 3: 'c', 4: 'd', 5: 'e'}]\n"
     ]
    }
   ],
   "source": [
    "#Using List Comprehension Method\n",
    "\n",
    "list1=[1,2,3,4,5,7,8]\n",
    "list2=[\"a\",\"b\",\"c\",\"d\",\"e\"]\n",
    "length=min(len(list1),len(list2))\n",
    "print(\"Creating a dictionary using List comprehension\")\n",
    "print(['Dictionary :',{list1[each]:list2[each] for each in range(length)}])                         "
   ]
  },
  {
   "cell_type": "code",
   "execution_count": null,
   "metadata": {},
   "outputs": [],
   "source": []
  }
 ],
 "metadata": {
  "kernelspec": {
   "display_name": "Python 3",
   "language": "python",
   "name": "python3"
  },
  "language_info": {
   "codemirror_mode": {
    "name": "ipython",
    "version": 3
   },
   "file_extension": ".py",
   "mimetype": "text/x-python",
   "name": "python",
   "nbconvert_exporter": "python",
   "pygments_lexer": "ipython3",
   "version": "3.7.6"
  }
 },
 "nbformat": 4,
 "nbformat_minor": 4
}
