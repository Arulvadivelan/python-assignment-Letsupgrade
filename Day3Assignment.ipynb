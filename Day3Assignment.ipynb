{
 "cells": [
  {
   "cell_type": "markdown",
   "metadata": {},
   "source": [
    "# Day 3 Assignment"
   ]
  },
  {
   "cell_type": "markdown",
   "metadata": {},
   "source": [
    "Letsupgrade python Batch 6"
   ]
  },
  {
   "cell_type": "markdown",
   "metadata": {},
   "source": [
    "# Sum of n Numbers in While loop"
   ]
  },
  {
   "cell_type": "code",
   "execution_count": 1,
   "metadata": {},
   "outputs": [
    {
     "name": "stdout",
     "output_type": "stream",
     "text": [
      "Enter the number10\n",
      "Sum of 10 numbers is 55\n"
     ]
    }
   ],
   "source": [
    "num1=int(input(\"Enter the number\"))\n",
    "num=num1+1\n",
    "i=1\n",
    "sum_n1=0\n",
    "while i in range(1,num):\n",
    "    sum_n1+=i\n",
    "    i+=1\n",
    "\n",
    "print(f\"Sum of {num1} numbers is {sum_n1}\")"
   ]
  },
  {
   "cell_type": "markdown",
   "metadata": {},
   "source": [
    "# Prime numbers"
   ]
  },
  {
   "cell_type": "code",
   "execution_count": 2,
   "metadata": {},
   "outputs": [
    {
     "name": "stdout",
     "output_type": "stream",
     "text": [
      "Enter the number7\n",
      "prime number\n"
     ]
    }
   ],
   "source": [
    "num2=int(input(\"Enter the number\"))\n",
    "\n",
    "for i in range(2,num2):\n",
    "    if num2%i==0:\n",
    "        print(\"Not prime number\")\n",
    "        break\n",
    "    else :\n",
    "        print(\"prime number\")\n",
    "        break\n",
    "    "
   ]
  },
  {
   "cell_type": "code",
   "execution_count": null,
   "metadata": {},
   "outputs": [],
   "source": []
  }
 ],
 "metadata": {
  "kernelspec": {
   "display_name": "Python 3",
   "language": "python",
   "name": "python3"
  },
  "language_info": {
   "codemirror_mode": {
    "name": "ipython",
    "version": 3
   },
   "file_extension": ".py",
   "mimetype": "text/x-python",
   "name": "python",
   "nbconvert_exporter": "python",
   "pygments_lexer": "ipython3",
   "version": "3.7.6"
  }
 },
 "nbformat": 4,
 "nbformat_minor": 4
}
