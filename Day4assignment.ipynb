{
 "cells": [
  {
   "cell_type": "markdown",
   "metadata": {},
   "source": [
    "# Day 4 Assignment"
   ]
  },
  {
   "cell_type": "markdown",
   "metadata": {},
   "source": [
    "Let's Upgrade Batch 6 python"
   ]
  },
  {
   "cell_type": "markdown",
   "metadata": {},
   "source": [
    "# 1.Printing Index number of Repeating elements"
   ]
  },
  {
   "cell_type": "code",
   "execution_count": 1,
   "metadata": {},
   "outputs": [
    {
     "name": "stdout",
     "output_type": "stream",
     "text": [
      "String is  Welcome to Let,s Upgrade!!!\n",
      "Length of the string is 27\n",
      "Printing index number of repeating elements like 'e'\n",
      "Element --> Index Number\n",
      "      e --> 1\n",
      "      e --> 6\n",
      "      e --> 12\n",
      "      e --> 23\n"
     ]
    }
   ],
   "source": [
    "str1=\"Welcome to Let,s Upgrade!!!\"\n",
    "print(\"String is \",str1)\n",
    "print(f\"Length of the string is {len(str1)}\")\n",
    "print(\"Printing index number of repeating elements like 'e'\")\n",
    " \n",
    "count=0\n",
    "print(\"Element\",\"-->\",\"Index Number\")\n",
    "    \n",
    "for each in str1:\n",
    "    if each==\"e\":\n",
    "        print(each.rjust(7),\"-->\",str1.index(each,count))      \n",
    "    count+=1 \n",
    "    \n"
   ]
  },
  {
   "cell_type": "markdown",
   "metadata": {},
   "source": [
    "# 2.Islower and Isupper Methods"
   ]
  },
  {
   "cell_type": "code",
   "execution_count": 2,
   "metadata": {},
   "outputs": [
    {
     "name": "stdout",
     "output_type": "stream",
     "text": [
      "Enter the string let'supgrade\n",
      "Given string is in Lowercase \n",
      " let'supgrade\n"
     ]
    }
   ],
   "source": [
    "get_str=input(\"Enter the string \")\n",
    "\n",
    "if get_str.islower():\n",
    "         print(\"Given string is in Lowercase \\n\",get_str)\n",
    "elif get_str.isupper():\n",
    "         print(\"Given string is in Uppercase \\n\",get_str)\n"
   ]
  },
  {
   "cell_type": "code",
   "execution_count": 3,
   "metadata": {},
   "outputs": [
    {
     "name": "stdout",
     "output_type": "stream",
     "text": [
      "Enter the string LET'S UPGRADE\n",
      "Given string is in Uppercase \n",
      " LET'S UPGRADE\n"
     ]
    }
   ],
   "source": [
    "get_str=input(\"Enter the string \")\n",
    "\n",
    "if get_str.islower():\n",
    "         print(\"Given string is in Lowercase \\n\",get_str)\n",
    "elif get_str.isupper():\n",
    "         print(\"Given string is in Uppercase \\n\",get_str)\n"
   ]
  },
  {
   "cell_type": "code",
   "execution_count": 4,
   "metadata": {},
   "outputs": [
    {
     "name": "stdout",
     "output_type": "stream",
     "text": [
      "Enter the string welcome all!!!!!@@@###### id is 1234455\n",
      "Given string is in Lowercase \n",
      " welcome all!!!!!@@@###### id is 1234455\n"
     ]
    }
   ],
   "source": [
    "get_str=input(\"Enter the string \")\n",
    "\n",
    "if get_str.islower():\n",
    "         print(\"Given string is in Lowercase \\n\",get_str)\n",
    "elif get_str.isupper():\n",
    "         print(\"Given string is in Uppercase \\n\",get_str)\n"
   ]
  },
  {
   "cell_type": "code",
   "execution_count": 5,
   "metadata": {},
   "outputs": [
    {
     "name": "stdout",
     "output_type": "stream",
     "text": [
      "Enter the string WELCOMEALL!!!!@@@### ID ID 124435\n",
      "Given string is in Uppercase \n",
      " WELCOMEALL!!!!@@@### ID ID 124435\n"
     ]
    }
   ],
   "source": [
    "get_str=input(\"Enter the string \")\n",
    "\n",
    "if get_str.islower():\n",
    "         print(\"Given string is in Lowercase \\n\",get_str)\n",
    "elif get_str.isupper():\n",
    "         print(\"Given string is in Uppercase \\n\",get_str)\n"
   ]
  },
  {
   "cell_type": "code",
   "execution_count": 2,
   "metadata": {},
   "outputs": [
    {
     "name": "stdout",
     "output_type": "stream",
     "text": [
      "Enter the string Good Evening!!!!\n",
      "Both Upper and Lower cases \n",
      " Good Evening!!!!\n"
     ]
    }
   ],
   "source": [
    "get_str=input(\"Enter the string \")\n",
    "\n",
    "if get_str.islower():\n",
    "         print(\"Given string is in Lowercase \\n\",get_str)\n",
    "elif get_str.isupper():\n",
    "         print(\"Given string is in Uppercase \\n\",get_str)\n",
    "else:\n",
    "         print(\"Both Upper and Lower cases \\n\",get_str)\n"
   ]
  },
  {
   "cell_type": "code",
   "execution_count": null,
   "metadata": {},
   "outputs": [],
   "source": []
  }
 ],
 "metadata": {
  "kernelspec": {
   "display_name": "Python 3",
   "language": "python",
   "name": "python3"
  },
  "language_info": {
   "codemirror_mode": {
    "name": "ipython",
    "version": 3
   },
   "file_extension": ".py",
   "mimetype": "text/x-python",
   "name": "python",
   "nbconvert_exporter": "python",
   "pygments_lexer": "ipython3",
   "version": "3.7.6"
  }
 },
 "nbformat": 4,
 "nbformat_minor": 4
}
